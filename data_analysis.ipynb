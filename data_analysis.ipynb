{
 "cells": [
  {
   "cell_type": "code",
   "execution_count": 4,
   "metadata": {},
   "outputs": [],
   "source": [
    "import pandas as pd\n",
    "from pathlib import Path\n",
    "import re\n",
    "\n",
    "import cv2\n",
    "import numpy as np\n",
    "import pandas as pd"
   ]
  },
  {
   "cell_type": "code",
   "execution_count": 7,
   "metadata": {},
   "outputs": [],
   "source": [
    "csv_file = \"keypoints_041122-17-46-38.csv\"\n",
    "df = pd.read_csv(csv_file)"
   ]
  },
  {
   "cell_type": "code",
   "execution_count": 8,
   "metadata": {},
   "outputs": [
    {
     "data": {
      "text/plain": [
       "4303"
      ]
     },
     "execution_count": 8,
     "metadata": {},
     "output_type": "execute_result"
    }
   ],
   "source": [
    "len(df)"
   ]
  },
  {
   "cell_type": "code",
   "execution_count": 35,
   "metadata": {},
   "outputs": [],
   "source": [
    "def get_keypoint_coordinates(index, location):\n",
    "    \"\"\"This function obtains keypoints recorded for a specific location at a \n",
    "    specific time (defined by the index)\n",
    "\n",
    "        Args:\n",
    "            inputs (dict): Dictionary with keys \n",
    "                \"img\", \"bboxes\", \"bbox_scores\", \"keypoints\", \"keypoint_scores\".\n",
    "\n",
    "        Returns:\n",
    "            keypoint_coordinates (np.array): x and y coordinates for the point.\n",
    "    \"\"\"\n",
    "    keypoints = [\n",
    "        list(\n",
    "            map(\n",
    "                float,\n",
    "                re.sub(r\"\\s+\", \" \", keypoint.strip()[1:-1]).strip().split(\" \"),\n",
    "            )\n",
    "        )\n",
    "        for keypoint in df.iloc[index][\"keypoints\"][2:-2].split(\"\\n \")\n",
    "    ]\n",
    "    return np.array([keypoints])[0][location, :]\n",
    "    \n",
    "    "
   ]
  },
  {
   "cell_type": "markdown",
   "metadata": {},
   "source": [
    "<img src=\"figures/keypoint_IDs.png\" width=\"350\">\n"
   ]
  },
  {
   "cell_type": "code",
   "execution_count": 41,
   "metadata": {},
   "outputs": [],
   "source": [
    "L_ANKLE = 15\n",
    "R_ANKLE = 16"
   ]
  },
  {
   "cell_type": "code",
   "execution_count": 42,
   "metadata": {},
   "outputs": [
    {
     "ename": "NameError",
     "evalue": "name 'get_keypoint' is not defined",
     "output_type": "error",
     "traceback": [
      "\u001b[1;31m---------------------------------------------------------------------------\u001b[0m",
      "\u001b[1;31mNameError\u001b[0m                                 Traceback (most recent call last)",
      "Cell \u001b[1;32mIn [42], line 1\u001b[0m\n\u001b[1;32m----> 1\u001b[0m get_keypoint(\u001b[39m4302\u001b[39m, L_ANKLE)\n",
      "\u001b[1;31mNameError\u001b[0m: name 'get_keypoint' is not defined"
     ]
    }
   ],
   "source": [
    "get_keypoint(4302, L_ANKLE)"
   ]
  },
  {
   "cell_type": "code",
   "execution_count": null,
   "metadata": {},
   "outputs": [],
   "source": []
  }
 ],
 "metadata": {
  "kernelspec": {
   "display_name": "Python 3.8.13 ('pkd')",
   "language": "python",
   "name": "python3"
  },
  "language_info": {
   "codemirror_mode": {
    "name": "ipython",
    "version": 3
   },
   "file_extension": ".py",
   "mimetype": "text/x-python",
   "name": "python",
   "nbconvert_exporter": "python",
   "pygments_lexer": "ipython3",
   "version": "3.8.13"
  },
  "orig_nbformat": 4,
  "vscode": {
   "interpreter": {
    "hash": "c3f8509ae55b95a9b580e049bf6e995d9d3df24e2addece8557abdd0dc54c695"
   }
  }
 },
 "nbformat": 4,
 "nbformat_minor": 2
}
